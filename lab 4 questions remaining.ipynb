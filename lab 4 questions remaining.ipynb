{
 "cells": [
  {
   "cell_type": "code",
   "execution_count": 2,
   "metadata": {},
   "outputs": [
    {
     "name": "stdout",
     "output_type": "stream",
     "text": [
      "Enter password: hello@123\n",
      "The correct password is:\n",
      "\n"
     ]
    }
   ],
   "source": [
    "#sunandani Q1\n",
    "import re\n",
    "s = []\n",
    "input = (n for n in input(\"Enter password: \").split(','))\n",
    "for password in input:\n",
    "\n",
    "   if not re.search('[a-z]', password):\n",
    "      pass\n",
    "   elif not re.search('[0-9]', password):\n",
    "      pass\n",
    "   elif not re.search('[A-Z]', password):\n",
    "      pass\n",
    "   elif not re.search('[$#@]', password):\n",
    "      pass\n",
    "   elif (len(password) < 6):\n",
    "      pass \n",
    "   elif (len(password) > 12):\n",
    "      pass\n",
    "   else:\n",
    "      s.append(password)\n",
    "\n",
    "print(\"The correct password is:\")\n",
    "print(\",\".join(s))"
   ]
  },
  {
   "cell_type": "code",
   "execution_count": 5,
   "metadata": {},
   "outputs": [
    {
     "name": "stdout",
     "output_type": "stream",
     "text": [
      "[('John', '20', '90'), ('Jony', '17', '91'), ('Jony', '17', '93'), ('Json', '21', '85'), ('Tom', '19', '80')]\n"
     ]
    }
   ],
   "source": [
    "s = 'Tom,19,80 John,20,90 Jony,17,91 Jony,17,93 Json,21,85'\n",
    "\n",
    "lst = [tuple(x.split(',')) for x in s.split()]\n",
    "\n",
    "print(sorted(lst, key=lambda x: (x[0], x[1], x[2])))"
   ]
  },
  {
   "cell_type": "code",
   "execution_count": 6,
   "metadata": {},
   "outputs": [
    {
     "name": "stdout",
     "output_type": "stream",
     "text": [
      "The input is  thedogisthewise\n",
      "The length of the longest non-repeating character substring is  15\n"
     ]
    }
   ],
   "source": [
    "def areDistinct(strr, i, j): \n",
    " \n",
    "    visited = [0] * (26) \n",
    "  \n",
    "    for k in range(i, j + 1): \n",
    "        if (visited[ord(strr[k]) - \n",
    "                   ord('a')] == True): \n",
    "            return -1\n",
    "              \n",
    "        visited[ord(strr[k]) -\n",
    "                ord('a')] = True\n",
    "  \n",
    "    return True\n",
    "   \n",
    "def longestUniqueSubsttr(strr): \n",
    "      \n",
    "    n = len(strr) \n",
    " \n",
    "    res = 0 \n",
    "      \n",
    "    for i in range(n): \n",
    "        for j in range(i, n): \n",
    "            if (areDistinct(strr, i, j)): \n",
    "                res = max(res, j - i + 1) \n",
    "                  \n",
    "    return res \n",
    " \n",
    "if __name__ == '__main__': \n",
    "      \n",
    "    strr = \"thedogisthewise\"\n",
    "    print(\"The input is \", strr) \n",
    "      \n",
    "    len = longestUniqueSubsttr(strr) \n",
    "    print(\"The length of the longest \"\n",
    "          \"non-repeating character substring is \", len)"
   ]
  },
  {
   "cell_type": "code",
   "execution_count": 7,
   "metadata": {},
   "outputs": [
    {
     "name": "stdout",
     "output_type": "stream",
     "text": [
      "[12, 24, 35, 88, 120, 155]\n"
     ]
    }
   ],
   "source": [
    "def Remove(duplicate): \n",
    "    final_list = [] \n",
    "    for num in duplicate: \n",
    "        if num not in final_list: \n",
    "            final_list.append(num) \n",
    "    return final_list \n",
    "       \n",
    "duplicate = [12,24,35,24,88,120,155,88,120,155] \n",
    "print(Remove(duplicate))"
   ]
  },
  {
   "cell_type": "code",
   "execution_count": 8,
   "metadata": {},
   "outputs": [
    {
     "name": "stdout",
     "output_type": "stream",
     "text": [
      "{'New': 1, 'to': 1, 'Python': 5, 'or': 2, 'choosing': 1, 'between': 1, '2': 2, 'and': 1, '3?': 1, 'Read': 1, '3..': 1}\n"
     ]
    }
   ],
   "source": [
    "def word_count(str):\n",
    "    counts = dict()\n",
    "    words = str.split()\n",
    "\n",
    "    for word in words:\n",
    "        if word in counts:\n",
    "            counts[word] += 1\n",
    "        else:\n",
    "            counts[word] = 1\n",
    "\n",
    "    return counts\n",
    "\n",
    "print( word_count('New to Python or choosing between Python 2 and Python 3? Read Python 2 or Python 3..'))"
   ]
  },
  {
   "cell_type": "code",
   "execution_count": null,
   "metadata": {},
   "outputs": [],
   "source": []
  }
 ],
 "metadata": {
  "kernelspec": {
   "display_name": "Python 3",
   "language": "python",
   "name": "python3"
  },
  "language_info": {
   "codemirror_mode": {
    "name": "ipython",
    "version": 3
   },
   "file_extension": ".py",
   "mimetype": "text/x-python",
   "name": "python",
   "nbconvert_exporter": "python",
   "pygments_lexer": "ipython3",
   "version": "3.8.3"
  }
 },
 "nbformat": 4,
 "nbformat_minor": 4
}
