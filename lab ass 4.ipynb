{
 "cells": [
  {
   "cell_type": "code",
   "execution_count": 2,
   "metadata": {},
   "outputs": [
    {
     "name": "stdout",
     "output_type": "stream",
     "text": [
      "Enter the data you want to enter:3\n",
      "Enter the name,age,height :ss,19,5.3\n",
      "Enter the name,age,height :vs,19,5.2\n",
      "Enter the name,age,height :rr,18,4.9\n",
      "[('rr', '18', '4.9'), ('ss', '19', '5.3'), ('vs', '19', '5.2')]\n"
     ]
    }
   ],
   "source": [
    "from operator import itemgetter\n",
    "noi=int(input('Enter the data you want to enter:'))\n",
    "b=[]\n",
    "for i in range(noi):\n",
    "    a=input('Enter the name,age,height :').split(\",\")\n",
    "    b.append(tuple(a))\n",
    "\n",
    "ab=sorted(b,key=itemgetter(0,1,2))\n",
    "print(ab)"
   ]
  },
  {
   "cell_type": "code",
   "execution_count": 3,
   "metadata": {},
   "outputs": [
    {
     "name": "stdout",
     "output_type": "stream",
     "text": [
      "Enter the string :hey\n",
      "hy\n"
     ]
    }
   ],
   "source": [
    "a=input(\"Enter the string :\")\n",
    "list(a)\n",
    "print(a[::2])"
   ]
  },
  {
   "cell_type": "code",
   "execution_count": null,
   "metadata": {},
   "outputs": [],
   "source": []
  }
 ],
 "metadata": {
  "kernelspec": {
   "display_name": "Python 3",
   "language": "python",
   "name": "python3"
  },
  "language_info": {
   "codemirror_mode": {
    "name": "ipython",
    "version": 3
   },
   "file_extension": ".py",
   "mimetype": "text/x-python",
   "name": "python",
   "nbconvert_exporter": "python",
   "pygments_lexer": "ipython3",
   "version": "3.8.3"
  }
 },
 "nbformat": 4,
 "nbformat_minor": 4
}
